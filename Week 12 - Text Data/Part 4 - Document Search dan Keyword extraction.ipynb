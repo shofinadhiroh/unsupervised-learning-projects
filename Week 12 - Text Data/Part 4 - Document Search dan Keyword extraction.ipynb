{
 "cells": [
  {
   "cell_type": "code",
   "execution_count": 1,
   "metadata": {},
   "outputs": [],
   "source": [
    "import pandas as pd"
   ]
  },
  {
   "cell_type": "code",
   "execution_count": 2,
   "metadata": {},
   "outputs": [],
   "source": [
    "from nltk.tokenize import word_tokenize\n",
    "from nltk.corpus import stopwords\n",
    "from string import punctuation\n",
    "\n",
    "sw_indo = stopwords.words(\"indonesian\") + list(punctuation)"
   ]
  },
  {
   "cell_type": "markdown",
   "metadata": {},
   "source": [
    "# Import Data"
   ]
  },
  {
   "cell_type": "code",
   "execution_count": 3,
   "metadata": {},
   "outputs": [
    {
     "data": {
      "text/html": [
       "<div>\n",
       "<style scoped>\n",
       "    .dataframe tbody tr th:only-of-type {\n",
       "        vertical-align: middle;\n",
       "    }\n",
       "\n",
       "    .dataframe tbody tr th {\n",
       "        vertical-align: top;\n",
       "    }\n",
       "\n",
       "    .dataframe thead th {\n",
       "        text-align: right;\n",
       "    }\n",
       "</style>\n",
       "<table border=\"1\" class=\"dataframe\">\n",
       "  <thead>\n",
       "    <tr style=\"text-align: right;\">\n",
       "      <th></th>\n",
       "      <th>teks</th>\n",
       "    </tr>\n",
       "  </thead>\n",
       "  <tbody>\n",
       "    <tr>\n",
       "      <th>0</th>\n",
       "      <td>Ginandjar Tetap Ditahan. Jaksa Agung Dilaporka...</td>\n",
       "    </tr>\n",
       "    <tr>\n",
       "      <th>1</th>\n",
       "      <td>Jakarta Dikangkangi Para Preman\\nKALAU tak pun...</td>\n",
       "    </tr>\n",
       "    <tr>\n",
       "      <th>2</th>\n",
       "      <td>Penyimpangan di Setpres Seolah Terjadi Sekaran...</td>\n",
       "    </tr>\n",
       "    <tr>\n",
       "      <th>3</th>\n",
       "      <td>Dibayarkan, Rapel Kenaikan Gaji Pegawai Pos\\nK...</td>\n",
       "    </tr>\n",
       "    <tr>\n",
       "      <th>4</th>\n",
       "      <td>Stop Kekerasan, Elite agar Duduk Bersama\\nSeju...</td>\n",
       "    </tr>\n",
       "  </tbody>\n",
       "</table>\n",
       "</div>"
      ],
      "text/plain": [
       "                                                teks\n",
       "0  Ginandjar Tetap Ditahan. Jaksa Agung Dilaporka...\n",
       "1  Jakarta Dikangkangi Para Preman\\nKALAU tak pun...\n",
       "2  Penyimpangan di Setpres Seolah Terjadi Sekaran...\n",
       "3  Dibayarkan, Rapel Kenaikan Gaji Pegawai Pos\\nK...\n",
       "4  Stop Kekerasan, Elite agar Duduk Bersama\\nSeju..."
      ]
     },
     "execution_count": 3,
     "metadata": {},
     "output_type": "execute_result"
    }
   ],
   "source": [
    "df = pd.read_csv(\"data/kompas.csv\")\n",
    "df.head()"
   ]
  },
  {
   "cell_type": "markdown",
   "metadata": {},
   "source": [
    "# Extract TFIDF"
   ]
  },
  {
   "cell_type": "code",
   "execution_count": 4,
   "metadata": {},
   "outputs": [],
   "source": [
    "from sklearn.feature_extraction.text import TfidfVectorizer"
   ]
  },
  {
   "cell_type": "code",
   "execution_count": 6,
   "metadata": {},
   "outputs": [
    {
     "name": "stderr",
     "output_type": "stream",
     "text": [
      "/Users/wiradharmakencanaputra/miniconda3/envs/jcopml/lib/python3.7/site-packages/sklearn/feature_extraction/text.py:385: UserWarning: Your stop_words may be inconsistent with your preprocessing. Tokenizing the stop words generated tokens ['``'] not in stop_words.\n",
      "  'stop_words.' % sorted(inconsistent))\n"
     ]
    }
   ],
   "source": [
    "tfidf = TfidfVectorizer(tokenizer=word_tokenize, stop_words=sw_indo, ngram_range=(1, 2))\n",
    "tfidf_matrix = tfidf.fit_transform(df.teks)"
   ]
  },
  {
   "cell_type": "markdown",
   "metadata": {},
   "source": [
    "# Document Siimilarity"
   ]
  },
  {
   "cell_type": "code",
   "execution_count": 9,
   "metadata": {},
   "outputs": [],
   "source": [
    "from sklearn.metrics.pairwise import cosine_distances"
   ]
  },
  {
   "cell_type": "code",
   "execution_count": 12,
   "metadata": {},
   "outputs": [
    {
     "data": {
      "text/plain": [
       "array([[0.        , 0.99141672, 0.98939957, ..., 0.99143713, 0.99322192,\n",
       "        0.98486659]])"
      ]
     },
     "execution_count": 12,
     "metadata": {},
     "output_type": "execute_result"
    }
   ],
   "source": [
    "dist = cosine_distances(tfidf_matrix[0], tfidf_matrix)\n",
    "dist"
   ]
  },
  {
   "cell_type": "code",
   "execution_count": 13,
   "metadata": {},
   "outputs": [
    {
     "data": {
      "text/plain": [
       "array([[   0,  144,  215, ..., 1593, 1131,  932]])"
      ]
     },
     "execution_count": 13,
     "metadata": {},
     "output_type": "execute_result"
    }
   ],
   "source": [
    "dist.argsort()"
   ]
  },
  {
   "cell_type": "code",
   "execution_count": 15,
   "metadata": {},
   "outputs": [
    {
     "data": {
      "text/plain": [
       "'Ginandjar Tetap Ditahan. Jaksa Agung Dilaporkan ke Polri\\nKejaksaan Agung memutuskan untuk tetap menahan tersangka kasus korupsi, Ginandjar Kartasasmita, sampai batas waktu yang ditentukan KUHAP. Sedan'"
      ]
     },
     "execution_count": 15,
     "metadata": {},
     "output_type": "execute_result"
    }
   ],
   "source": [
    "df.teks[0][:200]"
   ]
  },
  {
   "cell_type": "code",
   "execution_count": 16,
   "metadata": {},
   "outputs": [
    {
     "data": {
      "text/plain": [
       "'Kejaksaan Agung Terbitkan Surat Penahanan Baru\\nKejaksaan Agung (Kejagung) akhirnya menerbitkan surat perintah penahanan yang baru terhadap mantan Menteri Pertambangan dan Energi Ginandjar Kartasasmita'"
      ]
     },
     "execution_count": 16,
     "metadata": {},
     "output_type": "execute_result"
    }
   ],
   "source": [
    "df.teks[144][:200]"
   ]
  },
  {
   "cell_type": "code",
   "execution_count": 17,
   "metadata": {},
   "outputs": [
    {
     "data": {
      "text/plain": [
       "'Kuasa Hukum Ginandjar Bertahan di Rutan\\nSejumlah kuasa hukum Ginandjar Kartasasmita hingga hari Selasa (17/4) pukul 22.00 masih bertahan di ruang tahanan (rutan) Kejaksaan Agung (Kejagung). Selasa pag'"
      ]
     },
     "execution_count": 17,
     "metadata": {},
     "output_type": "execute_result"
    }
   ],
   "source": [
    "df.teks[215][:200]"
   ]
  },
  {
   "cell_type": "code",
   "execution_count": 18,
   "metadata": {},
   "outputs": [
    {
     "data": {
      "text/plain": [
       "'Pusat Pengolahan Ikan Asin Lhokseumawe Terbakar\\nPusat pengolahan ikan asin di kawasan Pasar Ikan Lhokseumawe (Aceh) terbakar bersama berton-ton stok ikan asin Sabtu (13/1) siang. Sedikitnya 25 gudang '"
      ]
     },
     "execution_count": 18,
     "metadata": {},
     "output_type": "execute_result"
    }
   ],
   "source": [
    "df.teks[932][:200]"
   ]
  },
  {
   "cell_type": "code",
   "execution_count": 19,
   "metadata": {},
   "outputs": [],
   "source": [
    "def search(query, tfidf, tfidf_matrix, df):\n",
    "    vec = tfidf.transform([query])\n",
    "    dist = cosine_distances(vec, tfidf_matrix)\n",
    "    best_idx = dist.argsort()[0, :10]\n",
    "    return df.teks[best_idx]"
   ]
  },
  {
   "cell_type": "code",
   "execution_count": 20,
   "metadata": {},
   "outputs": [],
   "source": [
    "result = search(\"\"\"\n",
    "Kita masih cukup berprihatin masih ada penambahan kasus positif sebanyak 106 kasus, jadi total ada 2.092 kasus positif ,\" ujar juru bicara pemerintah untuk penanganan virus korona Achmad Yurianto dalam konferensi pers di Gedung Badan Nasional Penanggulangan Bencana (BNPB), Jakarta, Sabtu, 4 April 2020. Yurianto mengatakan jumlah pasien positif korona yang sembuh juga bertambah 16 orang. Total ada 150 orang sembuh dari wabah penyakit yang pertama kali ditemukan di Wuhan, Tiongkok, itu.\n",
    "\"Kita bersyukur mereka yang sembuh kondisinya sudah bagus, dan tak perlu dikhawatirkan menularkan lagi,\" kata dia.\n",
    "Jumlah pasien yang meninggal akibat covid-19 bertambah 10 orang. \"Sehingga totalnya ada 191 yang meninggal,\" ujar dia.\n",
    "\"\"\", tfidf, tfidf_matrix, df)"
   ]
  },
  {
   "cell_type": "code",
   "execution_count": 22,
   "metadata": {},
   "outputs": [
    {
     "data": {
      "text/plain": [
       "'Masyarakat Harus Waspadai Leptospirosis\\n\\nDinas Kesehatan DKI Jakarta bekerja sama dengan Departemen Kesehatan dan Badan Penelitian dan Pengembangan (Balitbang) Veteriner Bogor membentuk tim untuk mengkaji lebih dalam temuan kasus penyakit leptospirosis, yang diderita sejumlah pasien pascabanjir ini. Berkaitan dengan itu, masyarakat tidak perlu khawatir. Masyarakat hanya dituntut untuk waspada dengan menjalankan pola hidup sehat. \\n\\nDemikian penjelasan Kepala Seksi Promosi Kesehatan/ Hubungan Masyarakat Dinas Kesehatan DKI Jakarta Evi Zelfino, Rabu (6/3). \"Walaupun penyakit lama, penyakit ini memang tidak familiar dengan kita. Dia meruyak karena banjir melanda kita,\" kata Evi.  \\n\\nSehari sebelumnya, diketahui bahwa delapan dari 17 warga DKI Jakarta meninggal dunia karena terserang penyakit leptospirosis. (Kompas, 6/3)       \\n\\nMenurut data Dinas Kesehatan DKI Jakarta hingga Rabu, sebanyak 21 warga terjangkit penyakit leptospirosis, delapan di antaranya meninggal dunia. Menanggapi ditemukannya kasus-kasus leptospirosis tersebut, Dinas Kesehatan DKI Jakarta melakukan pengamatan secara ketat terhadap epidemiologis penyakit tersebut. \"Pantauan kita adalah orang, tempat, dan waktu penyakit tersebut berjangkit,\" kata Evi. \\n\\nUntuk menentukan apakah penyakit tersebut sudah menjadi wabah atau belum, Dinas Kesehatan DKI Jakarta, Departemen Kesehatan, dan Balitbang Veteriner Bogor melakukan pengkajian mendalam. Tim tersebut akan turun pada 7-14 Maret 2002. Seluruh rumah sakit dan dokter-dokter di Ibu Kota telah diingatkan untuk mewaspadai temuan penyakit leptospirosis tersebut. \\n\\nMasih menyerang \\n\\nPenyakit leptospirosis masih menyerang warga yang baru tertimpa musibah banjir di Jakarta. Sebanyak empat orang masih dirawat di Rumah Sakit Tarakan dan Rumah Sakit Cipto Mangunkusumo (RSCM), Jakarta, akibat penyakit yang disebabkan bakteri leptospira berbentuk spiral ini. \\n\\nKepala Rumah Sakit Umum Daerah (RSUD) Tarakan Jakarta Pusat Soekirman Soekin mengatakan, RSUD Tarakan paling banyak menangani pasien korban banjir. Dari sekitar 3.000 pasien yang dirawat di berbagai rumah sakit di Jakarta akibat musibah banjir, sebanyak 557 pasien atau sekitar 20 persen di antaranya dirawat di RSUD Tarakan. \\n\\nDari 557 pasien korban banjir yang dirawat di RSUD Tarakan tersebut, lanjut Soekirman kemarin siang, 18 orang di antaranya menderita leptospirosis yang cukup parah, sedangkan sisanya menderita diare, demam berdarah, infeksi saluran pernapasan atas (ISPA), dan berbagai penyakit kulit. \\n\\n\"Kami sudah melakukan pertolongan maksimal kepada pasien korban banjir, bahkan jalur birokrasi dipermudah, yang penting keselamatan pasien didahulukan,\" kata Soekirman. \\n\\nNamun, karena kondisi pasien penderita leptospirosis yang datang ke RSUD Tarakan rata-rata kondisinya sudah kritis, dari 18 orang yang dirawat tersebut, tujuh di antaranya kemudian meninggal dunia. Sedangkan saat ini RSUD Tarakan masih menangani tiga orang  pasien penderita leptospirosis. \\n\\nHidup sehat \\n\\nEvi Zelfino mengingatkan, masyarakat bisa menghindari penyakit leptospirosis dengan menjalankan hidup sehat dan bersih. Penyakit tersebut disebarkan antara lain melalui air kencing tikus yang mengandung leptospira.  \\n\\n\"Jadi, kalau ingin terhindar, ya kita harus menjalani hidup bersih. Biasa saja, mau makan cuci tangan, kalau membersihkan got harus memakai sarung tangan, dan sebagainya,\" kata Evi. Untuk mematikan bakteri tersebut, bisa menggunakan disinfektans semacam lisol. \\n\\nJika diketahui lebih dini, obat untuk mengobati leptospirosis juga sudah tersedia, yakni penisilin maupun derivatnya. \\n\\nMenurut Soekirman, penderita yang sudah terserang bakteri leptosprira, pada mulanya merasakan demam mengigil, suhu badan tinggi, dan sakit kepala yang luar biasa, persis seperti demam biasa. Hanya saja demam ini tidak kunjung turun dan beberapa penderita muntah, dan beberapa pasien lain mengalami nyeri otot betis dan paha yang luar biasa. \\n\\n\"Untuk berdiri saja tidak mampu karena sakitnya luar biasa,\" kata Suhandi (42), pasien leptospirosis yang dirawat di instalasi rawat inap (IRNA) B lantai empat RSCM Jakarta. Penduduk RT 12 RW 09 Menteng Jaya Nomor 45 Kelurahan Menteng, Jakarta Pusat, ini sudah dua minggu terbaring di RSCM dan kondisinya berangsur membaik. \\n\\nStaf Humas RSCM Budi Prihartini mengatakan, sejak musibah banjir menggenangi Jakarta, terdapat empat pasien penderita leptospirosis yang dirawat di RSCM Jakarta. Seorang pasien akhirnya meninggal, dua pasien sudah diperbolehkan pulang, dan seorang pasien, Suhandi (42), masih menjalani perawatan.\\n\\n'"
      ]
     },
     "execution_count": 22,
     "metadata": {},
     "output_type": "execute_result"
    }
   ],
   "source": [
    "result.iloc[0]"
   ]
  },
  {
   "cell_type": "markdown",
   "metadata": {},
   "source": [
    "# Keyword Extraction"
   ]
  },
  {
   "cell_type": "code",
   "execution_count": 23,
   "metadata": {},
   "outputs": [
    {
     "data": {
      "text/plain": [
       "['zuniga memilih',\n",
       " 'zunnatul',\n",
       " 'zunnatul mafruhah',\n",
       " 'zurich',\n",
       " 'zurich northholt',\n",
       " 'zw',\n",
       " 'zw suparman',\n",
       " 'zw tim',\n",
       " 'zx',\n",
       " 'zx diserbu']"
      ]
     },
     "execution_count": 23,
     "metadata": {},
     "output_type": "execute_result"
    }
   ],
   "source": [
    "vocab = tfidf.get_feature_names()\n",
    "vocab[-10:]"
   ]
  },
  {
   "cell_type": "code",
   "execution_count": 24,
   "metadata": {},
   "outputs": [
    {
     "data": {
      "text/plain": [
       "array([[274201, 365453, 365452, ..., 386361, 436633, 169209]])"
      ]
     },
     "execution_count": 24,
     "metadata": {},
     "output_type": "execute_result"
    }
   ],
   "source": [
    "sorted_tfidf = tfidf_matrix[0].toarray().argsort()\n",
    "sorted_tfidf"
   ]
  },
  {
   "cell_type": "code",
   "execution_count": 27,
   "metadata": {},
   "outputs": [
    {
     "data": {
      "text/plain": [
       "['ginandjar',\n",
       " 'putusan',\n",
       " 'penahanan',\n",
       " 'hukum ginandjar',\n",
       " 'kuasa hukum',\n",
       " 'rusman',\n",
       " 'kejaksaan',\n",
       " 'hakim rusman',\n",
       " 'kuasa',\n",
       " '9 april']"
      ]
     },
     "execution_count": 27,
     "metadata": {},
     "output_type": "execute_result"
    }
   ],
   "source": [
    "[vocab[idx] for idx in reversed(sorted_tfidf[0, -10:])]"
   ]
  },
  {
   "cell_type": "markdown",
   "metadata": {},
   "source": [
    "# Sanity Check"
   ]
  },
  {
   "cell_type": "code",
   "execution_count": 28,
   "metadata": {},
   "outputs": [],
   "source": [
    "def extract_keywords_tfidf(doc, tfidf, topk=10):\n",
    "    vec = tfidf.transform([doc])\n",
    "    vocab = tfidf.get_feature_names()\n",
    "    \n",
    "    sorted_tfidf = vec.toarray().argsort()\n",
    "    return [vocab[idx] for idx in reversed(sorted_tfidf[0, -topk:])]"
   ]
  },
  {
   "cell_type": "code",
   "execution_count": 29,
   "metadata": {},
   "outputs": [],
   "source": [
    "text = \"\"\"\n",
    "Amerikanisasi\n",
    "di luar amerika serikat , amerikanisasi adalah istilah untuk menyebut pengaruh yang dimiliki amerika serikat di negara lain , contohnya budaya masyarakat , masakan , teknologi , praktik bisnis , atau teknik politiknya .\n",
    "istilah ini sudah digunakan sejak tahun 1907 .\n",
    "di amerika serikat sendiri , kata amerikanisasi berarti proses akulturasi adat dan nilai-nilai amerika serikat oleh imigran atau penduduk yang dianeksasi ( misalnya california ) .\n",
    "hollywood ( industri film dan televisi amerika serikat ) mendominasi sebagian besar pasar media dunia .\n",
    "inilah medium yang dipakai orang-orang di seluruh dunia untuk melihat gaya , adat , suasana , dan cara hidup amerika serikat .\n",
    "beberapa perusahaan komputer terbesar di dunia juga berkantor pusat di amerika serikat , misalnya microsoft , apple , dell , dan ibm .\n",
    "sebagian besar perangkat lunak yang dibeli di seluruh dunia juga diciptakan oleh perusahaan-perusahaan amerika serikat .\n",
    "carayannis dan campbell menulis bahwa , \" secara global , amerika serikat memiliki posisi yang sangat kuat di sektor perangkat lunak .\n",
    "\"\n",
    "di jerman pada tahun 1920 - an , gerakan efisiensi amerika serikat disebut \" rasionalisasi \" .\n",
    "ini adalah gerakan sosial dan ekonomi yang cukup kuat .\n",
    "gerakan ini memandang secara berlebihan model - model amerika serikat , khususnya fordisme .\n",
    "\" rasionalisasi \" berarti produktivitas yang lebih tinggi dan efisiensi yang lebih besar , menjanjikan bahwa ilmu pengetahuan akan memberi kemakmuran .\n",
    "secara umum , rasionalisasi menjanjikan tingkatan modernitas baru dan diterapkan pada produksi dan konsumsi ekonomi dan administrasi publik .\n",
    "berbagai versi rasionalisasi diperkenalkan oleh para industrialis dan demokrat sosial , insinyur dan arsitek , pendidik dan akademisi , feminis dan pekerja sosial kelas menengah , pejabat pemerintahan dan politikus partai .\n",
    "sebagai ideologi dan praktik , rasionalisasi menantang dan mengubah tidak hanya mesin , pabrik , dan perusahaan bisnis , tetapi juga kehidupan warga jerman kelas menengah dan pekerja .\n",
    "selama 15 tahun sejak 1950 sampai 1965 , investasi amerika serikat di eropa melonjak 800 % menjadi $ 13,9 miliar dan di komunitas ekonomi eropa naik 10 kali lipat menjadi $ 6,25 miliar .\n",
    "pangsa eropa di dunia investasi amerika serikat naik dari 15 % ke 28 % .\n",
    "investasi adalah model amerikanisasi yang paling jelas dan sering diperbincangkan .\n",
    "meski begitu , investasi amerika di eropa hanya mewakili 5 % dari total investasi eropa dan perusahaan milik amerika di komunitas ekonomi eropa hanya mempekerjakan 2 atau 3 % total tenaga kerja .\n",
    "alasan yang mendasari investasi amerika serikat ini bukan lagi biaya produksi rendah , pertumbuhan ekonomi cepat , atau laba tinggi di eropa , tetapi keinginan untuk mempertahankan posisi bersaing yang didasari superioritas teknologi amerika serikat .\n",
    "penolakan investasi amerika serikat awalnya muncul di Perancis , kemudian menyebar ke negara-negara eropa lainnya .\n",
    "opini publik mulai menolak iklan dan metode bisnis amerika , kebijakan personel , dan pemakaian bahasa inggris oleh perusahaan-perusahaan amerika .\n",
    "kritik juga diarahkan ke sistem mata uang internasional yang dituduh sebagai penyebab kecenderungan inflasi akibat posisi dolar a.s. yang dominan .\n",
    "akan tetapi pada 1970 - an , investasi eropa di a.s. meningkat lebih cepat daripada sebelumnya .\n",
    "geir lundestad menemukan bahwa persepsi \" amerika serikat membeli eropa \" juga mulai berkurang .\n",
    "berghahn ( 2010 ) menganalisis perdebatan mengenai manfaat konsep ' amerikanisasi ' dan ' westernisasi ' .\n",
    "ia meninjau penelitian terkini mengenai hubungan eropa - amerika serikat selama perang dingin yang memengaruhi dampak budaya amerika serikat di eropa .\n",
    "ia kemudian mendiskusikan penelitian yang relevan terhadap subjek ini di bidang sejarah ekonomi dan bisnis .\n",
    "secara keseluruhan , artikelnya mencoba memaparkan bahwa orang-orang yang menerapkan konsep ' amerikanisasi ' ke penelitian mereka mengenai sejarah budaya dan / atau ekonomi sudah sadar tentang kerumitan hubungan lintas atlantik pada masa tersebut , apakah dipandang sebagai pertukaran dua arah atau proses sirkulasi .\n",
    "\"\"\""
   ]
  },
  {
   "cell_type": "code",
   "execution_count": 30,
   "metadata": {},
   "outputs": [
    {
     "data": {
      "text/plain": [
       "['amerika',\n",
       " 'amerika serikat',\n",
       " 'serikat',\n",
       " 'eropa',\n",
       " 'investasi amerika',\n",
       " 'rasionalisasi',\n",
       " 'investasi',\n",
       " 'ekonomi',\n",
       " 'ekonomi eropa',\n",
       " 'bisnis']"
      ]
     },
     "execution_count": 30,
     "metadata": {},
     "output_type": "execute_result"
    }
   ],
   "source": [
    "extract_keywords_tfidf(text, tfidf)"
   ]
  }
 ],
 "metadata": {
  "kernelspec": {
   "display_name": "Python [conda env:jcopml]",
   "language": "python",
   "name": "conda-env-jcopml-py"
  },
  "language_info": {
   "codemirror_mode": {
    "name": "ipython",
    "version": 3
   },
   "file_extension": ".py",
   "mimetype": "text/x-python",
   "name": "python",
   "nbconvert_exporter": "python",
   "pygments_lexer": "ipython3",
   "version": "3.7.6"
  }
 },
 "nbformat": 4,
 "nbformat_minor": 2
}
